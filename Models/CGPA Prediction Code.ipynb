{
 "cells": [
  {
   "cell_type": "code",
   "execution_count": 1,
   "id": "dcda77bd",
   "metadata": {},
   "outputs": [],
   "source": [
    "# importing pandas\n",
    "\n",
    "import pandas as pd"
   ]
  },
  {
   "cell_type": "code",
   "execution_count": 2,
   "id": "c0926a30",
   "metadata": {},
   "outputs": [],
   "source": [
    "# to load the dataset\n",
    "\n",
    "df = pd.read_csv('D:\\Full Stack Development\\Project ( GitHub )\\PredictXpert\\Datasets/CGPA_Prediction_Dataset.csv')"
   ]
  },
  {
   "cell_type": "code",
   "execution_count": 3,
   "id": "52647436",
   "metadata": {},
   "outputs": [
    {
     "data": {
      "text/html": [
       "<div>\n",
       "<style scoped>\n",
       "    .dataframe tbody tr th:only-of-type {\n",
       "        vertical-align: middle;\n",
       "    }\n",
       "\n",
       "    .dataframe tbody tr th {\n",
       "        vertical-align: top;\n",
       "    }\n",
       "\n",
       "    .dataframe thead th {\n",
       "        text-align: right;\n",
       "    }\n",
       "</style>\n",
       "<table border=\"1\" class=\"dataframe\">\n",
       "  <thead>\n",
       "    <tr style=\"text-align: right;\">\n",
       "      <th></th>\n",
       "      <th>1st</th>\n",
       "      <th>2nd</th>\n",
       "      <th>3rd</th>\n",
       "      <th>4th</th>\n",
       "      <th>5th</th>\n",
       "      <th>College Code</th>\n",
       "      <th>Gender</th>\n",
       "      <th>Roll</th>\n",
       "      <th>Roll no.</th>\n",
       "      <th>Subject Code</th>\n",
       "    </tr>\n",
       "  </thead>\n",
       "  <tbody>\n",
       "    <tr>\n",
       "      <th>0</th>\n",
       "      <td>8.11</td>\n",
       "      <td>7.68</td>\n",
       "      <td>7.11</td>\n",
       "      <td>7.43</td>\n",
       "      <td>8.18</td>\n",
       "      <td>115</td>\n",
       "      <td>Female</td>\n",
       "      <td>NaN</td>\n",
       "      <td>17020.0</td>\n",
       "      <td>16</td>\n",
       "    </tr>\n",
       "    <tr>\n",
       "      <th>1</th>\n",
       "      <td>6.48</td>\n",
       "      <td>5.90</td>\n",
       "      <td>4.15</td>\n",
       "      <td>4.29</td>\n",
       "      <td>4.96</td>\n",
       "      <td>115</td>\n",
       "      <td>Male</td>\n",
       "      <td>NaN</td>\n",
       "      <td>17021.0</td>\n",
       "      <td>16</td>\n",
       "    </tr>\n",
       "    <tr>\n",
       "      <th>2</th>\n",
       "      <td>8.41</td>\n",
       "      <td>8.24</td>\n",
       "      <td>7.52</td>\n",
       "      <td>8.25</td>\n",
       "      <td>7.75</td>\n",
       "      <td>115</td>\n",
       "      <td>Female</td>\n",
       "      <td>NaN</td>\n",
       "      <td>17022.0</td>\n",
       "      <td>16</td>\n",
       "    </tr>\n",
       "    <tr>\n",
       "      <th>3</th>\n",
       "      <td>7.33</td>\n",
       "      <td>6.83</td>\n",
       "      <td>6.33</td>\n",
       "      <td>6.79</td>\n",
       "      <td>6.89</td>\n",
       "      <td>115</td>\n",
       "      <td>Male</td>\n",
       "      <td>NaN</td>\n",
       "      <td>17023.0</td>\n",
       "      <td>16</td>\n",
       "    </tr>\n",
       "    <tr>\n",
       "      <th>4</th>\n",
       "      <td>7.89</td>\n",
       "      <td>7.34</td>\n",
       "      <td>7.22</td>\n",
       "      <td>7.32</td>\n",
       "      <td>7.46</td>\n",
       "      <td>115</td>\n",
       "      <td>Male</td>\n",
       "      <td>NaN</td>\n",
       "      <td>17024.0</td>\n",
       "      <td>16</td>\n",
       "    </tr>\n",
       "  </tbody>\n",
       "</table>\n",
       "</div>"
      ],
      "text/plain": [
       "    1st   2nd   3rd   4th   5th  College Code  Gender  Roll  Roll no.  \\\n",
       "0  8.11  7.68  7.11  7.43  8.18           115  Female   NaN   17020.0   \n",
       "1  6.48  5.90  4.15  4.29  4.96           115    Male   NaN   17021.0   \n",
       "2  8.41  8.24  7.52  8.25  7.75           115  Female   NaN   17022.0   \n",
       "3  7.33  6.83  6.33  6.79  6.89           115    Male   NaN   17023.0   \n",
       "4  7.89  7.34  7.22  7.32  7.46           115    Male   NaN   17024.0   \n",
       "\n",
       "   Subject Code  \n",
       "0            16  \n",
       "1            16  \n",
       "2            16  \n",
       "3            16  \n",
       "4            16  "
      ]
     },
     "execution_count": 3,
     "metadata": {},
     "output_type": "execute_result"
    }
   ],
   "source": [
    "# to display the first 5 data's\n",
    "\n",
    "df.head(5)"
   ]
  },
  {
   "cell_type": "code",
   "execution_count": 4,
   "id": "3c3043db",
   "metadata": {},
   "outputs": [
    {
     "data": {
      "text/html": [
       "<div>\n",
       "<style scoped>\n",
       "    .dataframe tbody tr th:only-of-type {\n",
       "        vertical-align: middle;\n",
       "    }\n",
       "\n",
       "    .dataframe tbody tr th {\n",
       "        vertical-align: top;\n",
       "    }\n",
       "\n",
       "    .dataframe thead th {\n",
       "        text-align: right;\n",
       "    }\n",
       "</style>\n",
       "<table border=\"1\" class=\"dataframe\">\n",
       "  <thead>\n",
       "    <tr style=\"text-align: right;\">\n",
       "      <th></th>\n",
       "      <th>1st</th>\n",
       "      <th>2nd</th>\n",
       "      <th>3rd</th>\n",
       "      <th>4th</th>\n",
       "      <th>5th</th>\n",
       "      <th>College Code</th>\n",
       "      <th>Gender</th>\n",
       "      <th>Roll</th>\n",
       "      <th>Roll no.</th>\n",
       "      <th>Subject Code</th>\n",
       "    </tr>\n",
       "  </thead>\n",
       "  <tbody>\n",
       "    <tr>\n",
       "      <th>173</th>\n",
       "      <td>7.48</td>\n",
       "      <td>7.55</td>\n",
       "      <td>7.67</td>\n",
       "      <td>7.39</td>\n",
       "      <td>8.65</td>\n",
       "      <td>241</td>\n",
       "      <td>F</td>\n",
       "      <td>17048.0</td>\n",
       "      <td>NaN</td>\n",
       "      <td>28</td>\n",
       "    </tr>\n",
       "    <tr>\n",
       "      <th>174</th>\n",
       "      <td>7.30</td>\n",
       "      <td>6.41</td>\n",
       "      <td>6.59</td>\n",
       "      <td>7.11</td>\n",
       "      <td>7.38</td>\n",
       "      <td>241</td>\n",
       "      <td>M</td>\n",
       "      <td>17049.0</td>\n",
       "      <td>NaN</td>\n",
       "      <td>28</td>\n",
       "    </tr>\n",
       "    <tr>\n",
       "      <th>175</th>\n",
       "      <td>6.30</td>\n",
       "      <td>6.28</td>\n",
       "      <td>5.89</td>\n",
       "      <td>5.71</td>\n",
       "      <td>6.50</td>\n",
       "      <td>241</td>\n",
       "      <td>M</td>\n",
       "      <td>17050.0</td>\n",
       "      <td>NaN</td>\n",
       "      <td>28</td>\n",
       "    </tr>\n",
       "    <tr>\n",
       "      <th>176</th>\n",
       "      <td>7.04</td>\n",
       "      <td>7.10</td>\n",
       "      <td>6.81</td>\n",
       "      <td>7.00</td>\n",
       "      <td>6.92</td>\n",
       "      <td>241</td>\n",
       "      <td>M</td>\n",
       "      <td>17051.0</td>\n",
       "      <td>NaN</td>\n",
       "      <td>28</td>\n",
       "    </tr>\n",
       "    <tr>\n",
       "      <th>177</th>\n",
       "      <td>6.70</td>\n",
       "      <td>6.81</td>\n",
       "      <td>6.52</td>\n",
       "      <td>5.39</td>\n",
       "      <td>7.00</td>\n",
       "      <td>241</td>\n",
       "      <td>M</td>\n",
       "      <td>17052.0</td>\n",
       "      <td>NaN</td>\n",
       "      <td>28</td>\n",
       "    </tr>\n",
       "  </tbody>\n",
       "</table>\n",
       "</div>"
      ],
      "text/plain": [
       "      1st   2nd   3rd   4th   5th  College Code Gender     Roll  Roll no.  \\\n",
       "173  7.48  7.55  7.67  7.39  8.65           241      F  17048.0       NaN   \n",
       "174  7.30  6.41  6.59  7.11  7.38           241      M  17049.0       NaN   \n",
       "175  6.30  6.28  5.89  5.71  6.50           241      M  17050.0       NaN   \n",
       "176  7.04  7.10  6.81  7.00  6.92           241      M  17051.0       NaN   \n",
       "177  6.70  6.81  6.52  5.39  7.00           241      M  17052.0       NaN   \n",
       "\n",
       "     Subject Code  \n",
       "173            28  \n",
       "174            28  \n",
       "175            28  \n",
       "176            28  \n",
       "177            28  "
      ]
     },
     "execution_count": 4,
     "metadata": {},
     "output_type": "execute_result"
    }
   ],
   "source": [
    "# to see the last 5 data's\n",
    "\n",
    "df.tail(5)"
   ]
  },
  {
   "cell_type": "code",
   "execution_count": 5,
   "id": "2fe206ca",
   "metadata": {},
   "outputs": [
    {
     "data": {
      "text/plain": [
       "(178, 10)"
      ]
     },
     "execution_count": 5,
     "metadata": {},
     "output_type": "execute_result"
    }
   ],
   "source": [
    "# to display about the total number of rows and columns in the dataset\n",
    "\n",
    "df.shape"
   ]
  },
  {
   "cell_type": "code",
   "execution_count": 6,
   "id": "3f998803",
   "metadata": {},
   "outputs": [
    {
     "name": "stdout",
     "output_type": "stream",
     "text": [
      "<class 'pandas.core.frame.DataFrame'>\n",
      "RangeIndex: 178 entries, 0 to 177\n",
      "Data columns (total 10 columns):\n",
      " #   Column        Non-Null Count  Dtype  \n",
      "---  ------        --------------  -----  \n",
      " 0   1st           176 non-null    float64\n",
      " 1   2nd           174 non-null    float64\n",
      " 2   3rd           176 non-null    float64\n",
      " 3   4th           173 non-null    float64\n",
      " 4   5th           172 non-null    float64\n",
      " 5   College Code  178 non-null    int64  \n",
      " 6   Gender        177 non-null    object \n",
      " 7   Roll          132 non-null    float64\n",
      " 8   Roll no.      46 non-null     float64\n",
      " 9   Subject Code  178 non-null    int64  \n",
      "dtypes: float64(7), int64(2), object(1)\n",
      "memory usage: 14.0+ KB\n"
     ]
    }
   ],
   "source": [
    "# to get detail information about the datset\n",
    "\n",
    "df.info()"
   ]
  },
  {
   "cell_type": "code",
   "execution_count": 7,
   "id": "6076ad94",
   "metadata": {},
   "outputs": [
    {
     "data": {
      "text/plain": [
       "1st               2\n",
       "2nd               4\n",
       "3rd               2\n",
       "4th               5\n",
       "5th               6\n",
       "College Code      0\n",
       "Gender            1\n",
       "Roll             46\n",
       "Roll no.        132\n",
       "Subject Code      0\n",
       "dtype: int64"
      ]
     },
     "execution_count": 7,
     "metadata": {},
     "output_type": "execute_result"
    }
   ],
   "source": [
    "# to know about how may data's are null in the dataframe\n",
    "\n",
    "df.isnull().sum()"
   ]
  },
  {
   "cell_type": "code",
   "execution_count": 8,
   "id": "1a2b920d",
   "metadata": {},
   "outputs": [
    {
     "data": {
      "text/plain": [
       "Index(['1st', '2nd', '3rd', '4th', '5th', 'College Code', 'Gender', 'Roll',\n",
       "       'Roll no.', 'Subject Code'],\n",
       "      dtype='object')"
      ]
     },
     "execution_count": 8,
     "metadata": {},
     "output_type": "execute_result"
    }
   ],
   "source": [
    "# to define about the columns so that we can decide which one will be our Feature and Target\n",
    "\n",
    "df.columns"
   ]
  },
  {
   "cell_type": "code",
   "execution_count": 9,
   "id": "d35fa505",
   "metadata": {},
   "outputs": [
    {
     "data": {
      "text/plain": [
       "Male      80\n",
       "M         69\n",
       "Female    17\n",
       "F         11\n",
       "Name: Gender, dtype: int64"
      ]
     },
     "execution_count": 9,
     "metadata": {},
     "output_type": "execute_result"
    }
   ],
   "source": [
    "df['Gender'].value_counts()"
   ]
  },
  {
   "cell_type": "code",
   "execution_count": 10,
   "id": "f0b45b62",
   "metadata": {},
   "outputs": [],
   "source": [
    "df['Gender'].replace({'Female':'F','Male':'M'},inplace=True)"
   ]
  },
  {
   "cell_type": "code",
   "execution_count": 11,
   "id": "e36b3dd7",
   "metadata": {},
   "outputs": [
    {
     "data": {
      "text/plain": [
       "M    149\n",
       "F     28\n",
       "Name: Gender, dtype: int64"
      ]
     },
     "execution_count": 11,
     "metadata": {},
     "output_type": "execute_result"
    }
   ],
   "source": [
    "df['Gender'].value_counts()"
   ]
  },
  {
   "cell_type": "code",
   "execution_count": 12,
   "id": "8af2549a",
   "metadata": {},
   "outputs": [
    {
     "data": {
      "text/plain": [
       "116    51\n",
       "115    46\n",
       "165    46\n",
       "241    35\n",
       "Name: College Code, dtype: int64"
      ]
     },
     "execution_count": 12,
     "metadata": {},
     "output_type": "execute_result"
    }
   ],
   "source": [
    "df['College Code'].value_counts()"
   ]
  },
  {
   "cell_type": "code",
   "execution_count": 13,
   "id": "5d613a15",
   "metadata": {},
   "outputs": [
    {
     "data": {
      "text/plain": [
       "16    143\n",
       "28     35\n",
       "Name: Subject Code, dtype: int64"
      ]
     },
     "execution_count": 13,
     "metadata": {},
     "output_type": "execute_result"
    }
   ],
   "source": [
    "df['Subject Code'].value_counts()"
   ]
  },
  {
   "cell_type": "code",
   "execution_count": 14,
   "id": "2d11c8a2",
   "metadata": {},
   "outputs": [],
   "source": [
    "# selecting only the relevant colums\n",
    "\n",
    "df1= df[['1st','2nd', '3rd', '4th','5th']] "
   ]
  },
  {
   "cell_type": "code",
   "execution_count": 15,
   "id": "3f4604f9",
   "metadata": {},
   "outputs": [
    {
     "data": {
      "text/plain": [
       "1st    2\n",
       "2nd    4\n",
       "3rd    2\n",
       "4th    5\n",
       "5th    6\n",
       "dtype: int64"
      ]
     },
     "execution_count": 15,
     "metadata": {},
     "output_type": "execute_result"
    }
   ],
   "source": [
    "# checking how many nulls values are present in the columns\n",
    "\n",
    "df1.isnull().sum()"
   ]
  },
  {
   "cell_type": "code",
   "execution_count": 16,
   "id": "6e56bca8",
   "metadata": {},
   "outputs": [
    {
     "name": "stderr",
     "output_type": "stream",
     "text": [
      "C:\\Users\\LENOVO\\AppData\\Local\\Temp\\ipykernel_18764\\348139918.py:3: SettingWithCopyWarning: \n",
      "A value is trying to be set on a copy of a slice from a DataFrame\n",
      "\n",
      "See the caveats in the documentation: https://pandas.pydata.org/pandas-docs/stable/user_guide/indexing.html#returning-a-view-versus-a-copy\n",
      "  df1['1st'].fillna(df1['1st'].mean(),inplace = True)\n",
      "C:\\Users\\LENOVO\\AppData\\Local\\Temp\\ipykernel_18764\\348139918.py:4: SettingWithCopyWarning: \n",
      "A value is trying to be set on a copy of a slice from a DataFrame\n",
      "\n",
      "See the caveats in the documentation: https://pandas.pydata.org/pandas-docs/stable/user_guide/indexing.html#returning-a-view-versus-a-copy\n",
      "  df1['2nd'].fillna(df1['2nd'].mean(),inplace = True)\n",
      "C:\\Users\\LENOVO\\AppData\\Local\\Temp\\ipykernel_18764\\348139918.py:5: SettingWithCopyWarning: \n",
      "A value is trying to be set on a copy of a slice from a DataFrame\n",
      "\n",
      "See the caveats in the documentation: https://pandas.pydata.org/pandas-docs/stable/user_guide/indexing.html#returning-a-view-versus-a-copy\n",
      "  df1['3rd'].fillna(df1['3rd'].mean(),inplace = True)\n",
      "C:\\Users\\LENOVO\\AppData\\Local\\Temp\\ipykernel_18764\\348139918.py:6: SettingWithCopyWarning: \n",
      "A value is trying to be set on a copy of a slice from a DataFrame\n",
      "\n",
      "See the caveats in the documentation: https://pandas.pydata.org/pandas-docs/stable/user_guide/indexing.html#returning-a-view-versus-a-copy\n",
      "  df1['4th'].fillna(df1['4th'].mean(),inplace = True)\n",
      "C:\\Users\\LENOVO\\AppData\\Local\\Temp\\ipykernel_18764\\348139918.py:7: SettingWithCopyWarning: \n",
      "A value is trying to be set on a copy of a slice from a DataFrame\n",
      "\n",
      "See the caveats in the documentation: https://pandas.pydata.org/pandas-docs/stable/user_guide/indexing.html#returning-a-view-versus-a-copy\n",
      "  df1['5th'].fillna(df1['5th'].mean(),inplace = True)\n"
     ]
    }
   ],
   "source": [
    "# to fill the null values with the mean of that columns\n",
    "\n",
    "df1['1st'].fillna(df1['1st'].mean(),inplace = True) \n",
    "df1['2nd'].fillna(df1['2nd'].mean(),inplace = True) \n",
    "df1['3rd'].fillna(df1['3rd'].mean(),inplace = True) \n",
    "df1['4th'].fillna(df1['4th'].mean(),inplace = True) \n",
    "df1['5th'].fillna(df1['5th'].mean(),inplace = True) "
   ]
  },
  {
   "cell_type": "code",
   "execution_count": 17,
   "id": "64d4efe7",
   "metadata": {},
   "outputs": [
    {
     "data": {
      "text/plain": [
       "1st    0\n",
       "2nd    0\n",
       "3rd    0\n",
       "4th    0\n",
       "5th    0\n",
       "dtype: int64"
      ]
     },
     "execution_count": 17,
     "metadata": {},
     "output_type": "execute_result"
    }
   ],
   "source": [
    "df1.isnull().sum()"
   ]
  },
  {
   "cell_type": "code",
   "execution_count": 18,
   "id": "385afb49",
   "metadata": {},
   "outputs": [],
   "source": [
    "x = df1[['1st','2nd','3rd','4th']] \n",
    "y = df1['5th']  "
   ]
  },
  {
   "cell_type": "code",
   "execution_count": 19,
   "id": "9ed42942",
   "metadata": {},
   "outputs": [],
   "source": [
    "# Splitting the above data into training and testing data\n",
    "\n",
    "from sklearn.model_selection import train_test_split\n",
    "x_train,x_test,y_train,y_test = train_test_split(x,y,test_size= 0.2,random_state = 9598)"
   ]
  },
  {
   "cell_type": "code",
   "execution_count": 20,
   "id": "5ec61011",
   "metadata": {},
   "outputs": [
    {
     "name": "stdout",
     "output_type": "stream",
     "text": [
      "(142, 4)\n",
      "(36, 4)\n",
      "(142,)\n",
      "(36,)\n"
     ]
    }
   ],
   "source": [
    "# to know about the shape of traing and testing data\n",
    "\n",
    "print(x_train.shape)\n",
    "print(x_test.shape)\n",
    "print(y_train.shape)\n",
    "print(y_test.shape)"
   ]
  },
  {
   "cell_type": "code",
   "execution_count": 21,
   "id": "a224a1e0",
   "metadata": {},
   "outputs": [],
   "source": [
    "# As it is the Regrssion Problem lets try all the Regression Algorith to get the best accuracy\n",
    "\n",
    "from sklearn.linear_model import LinearRegression\n",
    "model = LinearRegression()"
   ]
  },
  {
   "cell_type": "code",
   "execution_count": 22,
   "id": "00005ff0",
   "metadata": {},
   "outputs": [
    {
     "data": {
      "text/html": [
       "<style>#sk-container-id-1 {color: black;background-color: white;}#sk-container-id-1 pre{padding: 0;}#sk-container-id-1 div.sk-toggleable {background-color: white;}#sk-container-id-1 label.sk-toggleable__label {cursor: pointer;display: block;width: 100%;margin-bottom: 0;padding: 0.3em;box-sizing: border-box;text-align: center;}#sk-container-id-1 label.sk-toggleable__label-arrow:before {content: \"▸\";float: left;margin-right: 0.25em;color: #696969;}#sk-container-id-1 label.sk-toggleable__label-arrow:hover:before {color: black;}#sk-container-id-1 div.sk-estimator:hover label.sk-toggleable__label-arrow:before {color: black;}#sk-container-id-1 div.sk-toggleable__content {max-height: 0;max-width: 0;overflow: hidden;text-align: left;background-color: #f0f8ff;}#sk-container-id-1 div.sk-toggleable__content pre {margin: 0.2em;color: black;border-radius: 0.25em;background-color: #f0f8ff;}#sk-container-id-1 input.sk-toggleable__control:checked~div.sk-toggleable__content {max-height: 200px;max-width: 100%;overflow: auto;}#sk-container-id-1 input.sk-toggleable__control:checked~label.sk-toggleable__label-arrow:before {content: \"▾\";}#sk-container-id-1 div.sk-estimator input.sk-toggleable__control:checked~label.sk-toggleable__label {background-color: #d4ebff;}#sk-container-id-1 div.sk-label input.sk-toggleable__control:checked~label.sk-toggleable__label {background-color: #d4ebff;}#sk-container-id-1 input.sk-hidden--visually {border: 0;clip: rect(1px 1px 1px 1px);clip: rect(1px, 1px, 1px, 1px);height: 1px;margin: -1px;overflow: hidden;padding: 0;position: absolute;width: 1px;}#sk-container-id-1 div.sk-estimator {font-family: monospace;background-color: #f0f8ff;border: 1px dotted black;border-radius: 0.25em;box-sizing: border-box;margin-bottom: 0.5em;}#sk-container-id-1 div.sk-estimator:hover {background-color: #d4ebff;}#sk-container-id-1 div.sk-parallel-item::after {content: \"\";width: 100%;border-bottom: 1px solid gray;flex-grow: 1;}#sk-container-id-1 div.sk-label:hover label.sk-toggleable__label {background-color: #d4ebff;}#sk-container-id-1 div.sk-serial::before {content: \"\";position: absolute;border-left: 1px solid gray;box-sizing: border-box;top: 0;bottom: 0;left: 50%;z-index: 0;}#sk-container-id-1 div.sk-serial {display: flex;flex-direction: column;align-items: center;background-color: white;padding-right: 0.2em;padding-left: 0.2em;position: relative;}#sk-container-id-1 div.sk-item {position: relative;z-index: 1;}#sk-container-id-1 div.sk-parallel {display: flex;align-items: stretch;justify-content: center;background-color: white;position: relative;}#sk-container-id-1 div.sk-item::before, #sk-container-id-1 div.sk-parallel-item::before {content: \"\";position: absolute;border-left: 1px solid gray;box-sizing: border-box;top: 0;bottom: 0;left: 50%;z-index: -1;}#sk-container-id-1 div.sk-parallel-item {display: flex;flex-direction: column;z-index: 1;position: relative;background-color: white;}#sk-container-id-1 div.sk-parallel-item:first-child::after {align-self: flex-end;width: 50%;}#sk-container-id-1 div.sk-parallel-item:last-child::after {align-self: flex-start;width: 50%;}#sk-container-id-1 div.sk-parallel-item:only-child::after {width: 0;}#sk-container-id-1 div.sk-dashed-wrapped {border: 1px dashed gray;margin: 0 0.4em 0.5em 0.4em;box-sizing: border-box;padding-bottom: 0.4em;background-color: white;}#sk-container-id-1 div.sk-label label {font-family: monospace;font-weight: bold;display: inline-block;line-height: 1.2em;}#sk-container-id-1 div.sk-label-container {text-align: center;}#sk-container-id-1 div.sk-container {/* jupyter's `normalize.less` sets `[hidden] { display: none; }` but bootstrap.min.css set `[hidden] { display: none !important; }` so we also need the `!important` here to be able to override the default hidden behavior on the sphinx rendered scikit-learn.org. See: https://github.com/scikit-learn/scikit-learn/issues/21755 */display: inline-block !important;position: relative;}#sk-container-id-1 div.sk-text-repr-fallback {display: none;}</style><div id=\"sk-container-id-1\" class=\"sk-top-container\"><div class=\"sk-text-repr-fallback\"><pre>LinearRegression()</pre><b>In a Jupyter environment, please rerun this cell to show the HTML representation or trust the notebook. <br />On GitHub, the HTML representation is unable to render, please try loading this page with nbviewer.org.</b></div><div class=\"sk-container\" hidden><div class=\"sk-item\"><div class=\"sk-estimator sk-toggleable\"><input class=\"sk-toggleable__control sk-hidden--visually\" id=\"sk-estimator-id-1\" type=\"checkbox\" checked><label for=\"sk-estimator-id-1\" class=\"sk-toggleable__label sk-toggleable__label-arrow\">LinearRegression</label><div class=\"sk-toggleable__content\"><pre>LinearRegression()</pre></div></div></div></div></div>"
      ],
      "text/plain": [
       "LinearRegression()"
      ]
     },
     "execution_count": 22,
     "metadata": {},
     "output_type": "execute_result"
    }
   ],
   "source": [
    "# To train and fit the model\n",
    "\n",
    "model.fit(x_train,y_train)"
   ]
  },
  {
   "cell_type": "code",
   "execution_count": 23,
   "id": "6dba391a",
   "metadata": {},
   "outputs": [],
   "source": [
    "# to predict the data\n",
    "\n",
    "y_pred = model.predict(x_test)"
   ]
  },
  {
   "cell_type": "code",
   "execution_count": 24,
   "id": "4889ce35",
   "metadata": {},
   "outputs": [
    {
     "data": {
      "text/plain": [
       "array([5.06476148, 7.40015398, 7.1418265 , 6.15114241, 7.72540621,\n",
       "       7.39831475, 8.54291432, 7.68472306, 7.73464719, 6.74120054,\n",
       "       6.11392775, 8.11735633, 9.37238823, 6.43482581, 6.59072723,\n",
       "       5.46181326, 7.11978302, 8.3867481 , 8.66979197, 8.7406681 ,\n",
       "       7.68948193, 8.82336244, 7.46132868, 6.67091214, 9.94203212,\n",
       "       6.91683808, 8.13990011, 9.54598164, 8.1044739 , 9.01065155,\n",
       "       7.05858672, 6.96550524, 7.47198607, 6.71676041, 6.52007686,\n",
       "       7.9692951 ])"
      ]
     },
     "execution_count": 24,
     "metadata": {},
     "output_type": "execute_result"
    }
   ],
   "source": [
    "# to print the prexicted value for the test data\n",
    "\n",
    "y_pred"
   ]
  },
  {
   "cell_type": "code",
   "execution_count": 25,
   "id": "355db793",
   "metadata": {},
   "outputs": [
    {
     "data": {
      "text/plain": [
       "47     6.180000\n",
       "174    7.380000\n",
       "26     6.890000\n",
       "12     6.750000\n",
       "171    7.500000\n",
       "60     7.570000\n",
       "32     8.820000\n",
       "159    7.380000\n",
       "68     8.360000\n",
       "64     7.000000\n",
       "92     6.930000\n",
       "53     8.500000\n",
       "31     8.500000\n",
       "125    6.750000\n",
       "83     6.750000\n",
       "40     4.860000\n",
       "13     7.000000\n",
       "25     8.360000\n",
       "112    8.000000\n",
       "21     8.930000\n",
       "163    7.350000\n",
       "39     8.890000\n",
       "57     8.040000\n",
       "131    7.390000\n",
       "135    9.460000\n",
       "85     6.250000\n",
       "145    7.310000\n",
       "115    9.190000\n",
       "70     8.570000\n",
       "111    9.110000\n",
       "9      6.180000\n",
       "104    6.750000\n",
       "91     7.432558\n",
       "84     7.960000\n",
       "77     6.180000\n",
       "67     8.180000\n",
       "Name: 5th, dtype: float64"
      ]
     },
     "execution_count": 25,
     "metadata": {},
     "output_type": "execute_result"
    }
   ],
   "source": [
    "# to know what the orignal prediction was for the testing data\n",
    "\n",
    "y_test"
   ]
  },
  {
   "cell_type": "code",
   "execution_count": 26,
   "id": "422e243e",
   "metadata": {},
   "outputs": [],
   "source": [
    "# to Calculate the Accuracy of the Model\n",
    "\n",
    "from sklearn.metrics import mean_absolute_error, mean_absolute_percentage_error,mean_squared_error"
   ]
  },
  {
   "cell_type": "code",
   "execution_count": 27,
   "id": "f44ef3ed",
   "metadata": {},
   "outputs": [
    {
     "data": {
      "text/plain": [
       "0.43147763457003"
      ]
     },
     "execution_count": 27,
     "metadata": {},
     "output_type": "execute_result"
    }
   ],
   "source": [
    "# to print the mean absolute error\n",
    "\n",
    "mean_absolute_error(y_test,y_pred)"
   ]
  },
  {
   "cell_type": "code",
   "execution_count": 28,
   "id": "f7833099",
   "metadata": {},
   "outputs": [
    {
     "data": {
      "text/plain": [
       "0.05958092102737954"
      ]
     },
     "execution_count": 28,
     "metadata": {},
     "output_type": "execute_result"
    }
   ],
   "source": [
    "# to print the mean absolute percentage\n",
    "\n",
    "per_e = mean_absolute_percentage_error(y_test,y_pred)\n",
    "per_e"
   ]
  },
  {
   "cell_type": "code",
   "execution_count": 29,
   "id": "9ac94ebc",
   "metadata": {},
   "outputs": [
    {
     "data": {
      "text/plain": [
       "94.04190789726205"
      ]
     },
     "execution_count": 29,
     "metadata": {},
     "output_type": "execute_result"
    }
   ],
   "source": [
    "# to print the accuracy in percentage\n",
    "\n",
    "accuracy = (1-per_e)*100\n",
    "accuracy"
   ]
  },
  {
   "cell_type": "code",
   "execution_count": 30,
   "id": "4e530af2",
   "metadata": {},
   "outputs": [
    {
     "data": {
      "text/plain": [
       "0.2819540443335011"
      ]
     },
     "execution_count": 30,
     "metadata": {},
     "output_type": "execute_result"
    }
   ],
   "source": [
    "# to print the mean squared error\n",
    "\n",
    "mean_squared_error(y_test,y_pred)"
   ]
  },
  {
   "cell_type": "code",
   "execution_count": 31,
   "id": "ef46d21a",
   "metadata": {},
   "outputs": [
    {
     "data": {
      "text/plain": [
       "94.57639120744228"
      ]
     },
     "execution_count": 31,
     "metadata": {},
     "output_type": "execute_result"
    }
   ],
   "source": [
    "# KNeighbors Regressor\n",
    "\n",
    "from sklearn.neighbors import KNeighborsRegressor\n",
    "model2 = KNeighborsRegressor() \n",
    "model2.fit(x_train,y_train)\n",
    "y_pred2 = model2.predict(x_test)\n",
    "error2 = mean_absolute_percentage_error(y_test,y_pred2)\n",
    "acc2 = (1-error2)*100\n",
    "acc2"
   ]
  },
  {
   "cell_type": "code",
   "execution_count": 32,
   "id": "8cf8d7cf",
   "metadata": {},
   "outputs": [
    {
     "data": {
      "text/plain": [
       "91.81573147649884"
      ]
     },
     "execution_count": 32,
     "metadata": {},
     "output_type": "execute_result"
    }
   ],
   "source": [
    "# DecisionTree Regressor\n",
    "\n",
    "from sklearn.tree import DecisionTreeRegressor\n",
    "model3 = DecisionTreeRegressor()\n",
    "model3.fit(x_train,y_train)\n",
    "y_pred3 = model3.predict(x_test)\n",
    "error3 = mean_absolute_percentage_error(y_test,y_pred3)\n",
    "acc3 = (1-error3)*100\n",
    "acc3"
   ]
  },
  {
   "cell_type": "code",
   "execution_count": 33,
   "id": "4dd058b6",
   "metadata": {},
   "outputs": [
    {
     "data": {
      "text/plain": [
       "93.51828056802374"
      ]
     },
     "execution_count": 33,
     "metadata": {},
     "output_type": "execute_result"
    }
   ],
   "source": [
    "# RandomForest Regressor\n",
    "\n",
    "from sklearn.ensemble import RandomForestRegressor\n",
    "model4 = RandomForestRegressor()\n",
    "model4.fit(x_train,y_train)\n",
    "y_pred4 = model4.predict(x_test)\n",
    "error4 = mean_absolute_percentage_error(y_test,y_pred4)\n",
    "acc4 = (1-error4)*100\n",
    "acc4"
   ]
  },
  {
   "cell_type": "code",
   "execution_count": 34,
   "id": "b6d9369a",
   "metadata": {},
   "outputs": [
    {
     "name": "stdout",
     "output_type": "stream",
     "text": [
      "The Acuuracy of Linear Regressor is  94.04190789726205\n",
      "The Acuuracy of KNeighbors Regressor is  94.57639120744228\n",
      "The Acuuracy of DecisionTree Regressor is  91.81573147649884\n",
      "The Acuuracy of RandomForest Regressor is  93.51828056802374\n"
     ]
    }
   ],
   "source": [
    "print(\"The Acuuracy of Linear Regressor is \",accuracy)\n",
    "print(\"The Acuuracy of KNeighbors Regressor is \",acc2)\n",
    "print(\"The Acuuracy of DecisionTree Regressor is \",acc3)\n",
    "print(\"The Acuuracy of RandomForest Regressor is \",acc4)"
   ]
  },
  {
   "cell_type": "code",
   "execution_count": 35,
   "id": "c595c01b",
   "metadata": {},
   "outputs": [],
   "source": [
    "import pickle\n",
    "with open('cgpaModel.pkl','wb') as f:\n",
    "    pickle.dump(model2,f)"
   ]
  }
 ],
 "metadata": {
  "kernelspec": {
   "display_name": "Python 3 (ipykernel)",
   "language": "python",
   "name": "python3"
  },
  "language_info": {
   "codemirror_mode": {
    "name": "ipython",
    "version": 3
   },
   "file_extension": ".py",
   "mimetype": "text/x-python",
   "name": "python",
   "nbconvert_exporter": "python",
   "pygments_lexer": "ipython3",
   "version": "3.9.1"
  }
 },
 "nbformat": 4,
 "nbformat_minor": 5
}
