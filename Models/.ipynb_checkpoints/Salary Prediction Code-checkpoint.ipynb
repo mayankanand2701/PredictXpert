{
 "cells": [
  {
   "cell_type": "code",
   "execution_count": 1,
   "id": "7ea44be3",
   "metadata": {},
   "outputs": [],
   "source": [
    "# importing pandas\n",
    "\n",
    "import pandas as pd"
   ]
  },
  {
   "cell_type": "code",
   "execution_count": 19,
   "id": "be7e0cf7",
   "metadata": {},
   "outputs": [],
   "source": [
    "# to load the dataset\n",
    "\n",
    "df = pd.read_csv('D:\\Full Stack Development\\Project ( GitHub )\\PredictXpert\\Datasets/Salary_Prediction_Dataset.csv')"
   ]
  },
  {
   "cell_type": "code",
   "execution_count": 23,
   "id": "d8395ea3",
   "metadata": {},
   "outputs": [
    {
     "data": {
      "text/html": [
       "<div>\n",
       "<style scoped>\n",
       "    .dataframe tbody tr th:only-of-type {\n",
       "        vertical-align: middle;\n",
       "    }\n",
       "\n",
       "    .dataframe tbody tr th {\n",
       "        vertical-align: top;\n",
       "    }\n",
       "\n",
       "    .dataframe thead th {\n",
       "        text-align: right;\n",
       "    }\n",
       "</style>\n",
       "<table border=\"1\" class=\"dataframe\">\n",
       "  <thead>\n",
       "    <tr style=\"text-align: right;\">\n",
       "      <th></th>\n",
       "      <th>Age</th>\n",
       "      <th>Gender</th>\n",
       "      <th>Education Level</th>\n",
       "      <th>Job Title</th>\n",
       "      <th>Years of Experience</th>\n",
       "      <th>Salary</th>\n",
       "    </tr>\n",
       "  </thead>\n",
       "  <tbody>\n",
       "    <tr>\n",
       "      <th>0</th>\n",
       "      <td>32.0</td>\n",
       "      <td>Male</td>\n",
       "      <td>Bachelor's</td>\n",
       "      <td>Software Engineer</td>\n",
       "      <td>5.0</td>\n",
       "      <td>90000.0</td>\n",
       "    </tr>\n",
       "    <tr>\n",
       "      <th>1</th>\n",
       "      <td>28.0</td>\n",
       "      <td>Female</td>\n",
       "      <td>Master's</td>\n",
       "      <td>Data Analyst</td>\n",
       "      <td>3.0</td>\n",
       "      <td>65000.0</td>\n",
       "    </tr>\n",
       "    <tr>\n",
       "      <th>2</th>\n",
       "      <td>45.0</td>\n",
       "      <td>Male</td>\n",
       "      <td>PhD</td>\n",
       "      <td>Senior Manager</td>\n",
       "      <td>15.0</td>\n",
       "      <td>150000.0</td>\n",
       "    </tr>\n",
       "    <tr>\n",
       "      <th>3</th>\n",
       "      <td>36.0</td>\n",
       "      <td>Female</td>\n",
       "      <td>Bachelor's</td>\n",
       "      <td>Sales Associate</td>\n",
       "      <td>7.0</td>\n",
       "      <td>60000.0</td>\n",
       "    </tr>\n",
       "    <tr>\n",
       "      <th>4</th>\n",
       "      <td>52.0</td>\n",
       "      <td>Male</td>\n",
       "      <td>Master's</td>\n",
       "      <td>Director</td>\n",
       "      <td>20.0</td>\n",
       "      <td>200000.0</td>\n",
       "    </tr>\n",
       "  </tbody>\n",
       "</table>\n",
       "</div>"
      ],
      "text/plain": [
       "    Age  Gender Education Level          Job Title  Years of Experience  \\\n",
       "0  32.0    Male      Bachelor's  Software Engineer                  5.0   \n",
       "1  28.0  Female        Master's       Data Analyst                  3.0   \n",
       "2  45.0    Male             PhD     Senior Manager                 15.0   \n",
       "3  36.0  Female      Bachelor's    Sales Associate                  7.0   \n",
       "4  52.0    Male        Master's           Director                 20.0   \n",
       "\n",
       "     Salary  \n",
       "0   90000.0  \n",
       "1   65000.0  \n",
       "2  150000.0  \n",
       "3   60000.0  \n",
       "4  200000.0  "
      ]
     },
     "execution_count": 23,
     "metadata": {},
     "output_type": "execute_result"
    }
   ],
   "source": [
    "# to display the first 5 data's\n",
    "\n",
    "df.head(5)"
   ]
  },
  {
   "cell_type": "code",
   "execution_count": 4,
   "id": "8c4428ef",
   "metadata": {},
   "outputs": [
    {
     "data": {
      "text/plain": [
       "(375, 6)"
      ]
     },
     "execution_count": 4,
     "metadata": {},
     "output_type": "execute_result"
    }
   ],
   "source": [
    "# to display about the total number of rows and columns in the dataset\n",
    "\n",
    "df.shape"
   ]
  },
  {
   "cell_type": "code",
   "execution_count": 5,
   "id": "11e98c26",
   "metadata": {},
   "outputs": [
    {
     "name": "stdout",
     "output_type": "stream",
     "text": [
      "<class 'pandas.core.frame.DataFrame'>\n",
      "RangeIndex: 375 entries, 0 to 374\n",
      "Data columns (total 6 columns):\n",
      " #   Column               Non-Null Count  Dtype  \n",
      "---  ------               --------------  -----  \n",
      " 0   Age                  373 non-null    float64\n",
      " 1   Gender               373 non-null    object \n",
      " 2   Education Level      373 non-null    object \n",
      " 3   Job Title            373 non-null    object \n",
      " 4   Years of Experience  373 non-null    float64\n",
      " 5   Salary               373 non-null    float64\n",
      "dtypes: float64(3), object(3)\n",
      "memory usage: 17.7+ KB\n"
     ]
    }
   ],
   "source": [
    "# to get detail information about the datset\n",
    "\n",
    "df.info()"
   ]
  },
  {
   "cell_type": "code",
   "execution_count": 6,
   "id": "26d602e1",
   "metadata": {},
   "outputs": [
    {
     "data": {
      "text/plain": [
       "Age                    2\n",
       "Gender                 2\n",
       "Education Level        2\n",
       "Job Title              2\n",
       "Years of Experience    2\n",
       "Salary                 2\n",
       "dtype: int64"
      ]
     },
     "execution_count": 6,
     "metadata": {},
     "output_type": "execute_result"
    }
   ],
   "source": [
    "# to know about how may data's are null in the dataframe\n",
    "\n",
    "df.isnull().sum()"
   ]
  },
  {
   "cell_type": "code",
   "execution_count": 7,
   "id": "6d0499c2",
   "metadata": {},
   "outputs": [
    {
     "data": {
      "text/html": [
       "<div>\n",
       "<style scoped>\n",
       "    .dataframe tbody tr th:only-of-type {\n",
       "        vertical-align: middle;\n",
       "    }\n",
       "\n",
       "    .dataframe tbody tr th {\n",
       "        vertical-align: top;\n",
       "    }\n",
       "\n",
       "    .dataframe thead th {\n",
       "        text-align: right;\n",
       "    }\n",
       "</style>\n",
       "<table border=\"1\" class=\"dataframe\">\n",
       "  <thead>\n",
       "    <tr style=\"text-align: right;\">\n",
       "      <th></th>\n",
       "      <th>Age</th>\n",
       "      <th>Years of Experience</th>\n",
       "      <th>Salary</th>\n",
       "    </tr>\n",
       "  </thead>\n",
       "  <tbody>\n",
       "    <tr>\n",
       "      <th>count</th>\n",
       "      <td>373.000000</td>\n",
       "      <td>373.000000</td>\n",
       "      <td>373.000000</td>\n",
       "    </tr>\n",
       "    <tr>\n",
       "      <th>mean</th>\n",
       "      <td>37.431635</td>\n",
       "      <td>10.030831</td>\n",
       "      <td>100577.345845</td>\n",
       "    </tr>\n",
       "    <tr>\n",
       "      <th>std</th>\n",
       "      <td>7.069073</td>\n",
       "      <td>6.557007</td>\n",
       "      <td>48240.013482</td>\n",
       "    </tr>\n",
       "    <tr>\n",
       "      <th>min</th>\n",
       "      <td>23.000000</td>\n",
       "      <td>0.000000</td>\n",
       "      <td>350.000000</td>\n",
       "    </tr>\n",
       "    <tr>\n",
       "      <th>25%</th>\n",
       "      <td>31.000000</td>\n",
       "      <td>4.000000</td>\n",
       "      <td>55000.000000</td>\n",
       "    </tr>\n",
       "    <tr>\n",
       "      <th>50%</th>\n",
       "      <td>36.000000</td>\n",
       "      <td>9.000000</td>\n",
       "      <td>95000.000000</td>\n",
       "    </tr>\n",
       "    <tr>\n",
       "      <th>75%</th>\n",
       "      <td>44.000000</td>\n",
       "      <td>15.000000</td>\n",
       "      <td>140000.000000</td>\n",
       "    </tr>\n",
       "    <tr>\n",
       "      <th>max</th>\n",
       "      <td>53.000000</td>\n",
       "      <td>25.000000</td>\n",
       "      <td>250000.000000</td>\n",
       "    </tr>\n",
       "  </tbody>\n",
       "</table>\n",
       "</div>"
      ],
      "text/plain": [
       "              Age  Years of Experience         Salary\n",
       "count  373.000000           373.000000     373.000000\n",
       "mean    37.431635            10.030831  100577.345845\n",
       "std      7.069073             6.557007   48240.013482\n",
       "min     23.000000             0.000000     350.000000\n",
       "25%     31.000000             4.000000   55000.000000\n",
       "50%     36.000000             9.000000   95000.000000\n",
       "75%     44.000000            15.000000  140000.000000\n",
       "max     53.000000            25.000000  250000.000000"
      ]
     },
     "execution_count": 7,
     "metadata": {},
     "output_type": "execute_result"
    }
   ],
   "source": [
    "df.describe()"
   ]
  },
  {
   "cell_type": "code",
   "execution_count": 8,
   "id": "a0b968a8",
   "metadata": {},
   "outputs": [
    {
     "data": {
      "text/plain": [
       "Index(['Age', 'Gender', 'Education Level', 'Job Title', 'Years of Experience',\n",
       "       'Salary'],\n",
       "      dtype='object')"
      ]
     },
     "execution_count": 8,
     "metadata": {},
     "output_type": "execute_result"
    }
   ],
   "source": [
    "# to define about the columns so that we can decide which one will be our Feature and Target\n",
    "\n",
    "df.columns"
   ]
  },
  {
   "cell_type": "code",
   "execution_count": 11,
   "id": "6570de6e",
   "metadata": {},
   "outputs": [
    {
     "data": {
      "text/plain": [
       "Age                    0\n",
       "Gender                 0\n",
       "Education Level        0\n",
       "Job Title              0\n",
       "Years of Experience    0\n",
       "Salary                 0\n",
       "dtype: int64"
      ]
     },
     "execution_count": 11,
     "metadata": {},
     "output_type": "execute_result"
    }
   ],
   "source": [
    "# dropping all the null values from the dataset\n",
    "\n",
    "df1 = df.dropna()\n",
    "df1.isnull().sum()"
   ]
  },
  {
   "cell_type": "code",
   "execution_count": 24,
   "id": "e389186a",
   "metadata": {},
   "outputs": [
    {
     "data": {
      "text/plain": [
       "array([32., 28., 45., 36., 52., 29., 42., 31., 26., 38., 48., 35., 40.,\n",
       "       27., 44., 33., 39., 25., 51., 34., 47., 30., 41., 37., 24., 43.,\n",
       "       50., 46., 49., 23., 53., nan])"
      ]
     },
     "execution_count": 24,
     "metadata": {},
     "output_type": "execute_result"
    }
   ],
   "source": [
    "df['Age'].unique()"
   ]
  },
  {
   "cell_type": "code",
   "execution_count": 18,
   "id": "ff0c8586",
   "metadata": {},
   "outputs": [
    {
     "data": {
      "text/plain": [
       "array(['Male', 'Female', nan], dtype=object)"
      ]
     },
     "execution_count": 18,
     "metadata": {},
     "output_type": "execute_result"
    }
   ],
   "source": [
    "df['Gender'].unique()"
   ]
  },
  {
   "cell_type": "code",
   "execution_count": 25,
   "id": "ae30effd",
   "metadata": {},
   "outputs": [
    {
     "data": {
      "text/plain": [
       "array([\"Bachelor's\", \"Master's\", 'PhD', nan], dtype=object)"
      ]
     },
     "execution_count": 25,
     "metadata": {},
     "output_type": "execute_result"
    }
   ],
   "source": [
    "df['Education Level'].unique()"
   ]
  },
  {
   "cell_type": "code",
   "execution_count": 26,
   "id": "33646525",
   "metadata": {},
   "outputs": [
    {
     "data": {
      "text/plain": [
       "array(['Software Engineer', 'Data Analyst', 'Senior Manager',\n",
       "       'Sales Associate', 'Director', 'Marketing Analyst',\n",
       "       'Product Manager', 'Sales Manager', 'Marketing Coordinator',\n",
       "       'Senior Scientist', 'Software Developer', 'HR Manager',\n",
       "       'Financial Analyst', 'Project Manager', 'Customer Service Rep',\n",
       "       'Operations Manager', 'Marketing Manager', 'Senior Engineer',\n",
       "       'Data Entry Clerk', 'Sales Director', 'Business Analyst',\n",
       "       'VP of Operations', 'IT Support', 'Recruiter', 'Financial Manager',\n",
       "       'Social Media Specialist', 'Software Manager', 'Junior Developer',\n",
       "       'Senior Consultant', 'Product Designer', 'CEO', 'Accountant',\n",
       "       'Data Scientist', 'Marketing Specialist', 'Technical Writer',\n",
       "       'HR Generalist', 'Project Engineer', 'Customer Success Rep',\n",
       "       'Sales Executive', 'UX Designer', 'Operations Director',\n",
       "       'Network Engineer', 'Administrative Assistant',\n",
       "       'Strategy Consultant', 'Copywriter', 'Account Manager',\n",
       "       'Director of Marketing', 'Help Desk Analyst',\n",
       "       'Customer Service Manager', 'Business Intelligence Analyst',\n",
       "       'Event Coordinator', 'VP of Finance', 'Graphic Designer',\n",
       "       'UX Researcher', 'Social Media Manager', 'Director of Operations',\n",
       "       'Senior Data Scientist', 'Junior Accountant',\n",
       "       'Digital Marketing Manager', 'IT Manager',\n",
       "       'Customer Service Representative', 'Business Development Manager',\n",
       "       'Senior Financial Analyst', 'Web Developer', 'Research Director',\n",
       "       'Technical Support Specialist', 'Creative Director',\n",
       "       'Senior Software Engineer', 'Human Resources Director',\n",
       "       'Content Marketing Manager', 'Technical Recruiter',\n",
       "       'Sales Representative', 'Chief Technology Officer',\n",
       "       'Junior Designer', 'Financial Advisor', 'Junior Account Manager',\n",
       "       'Senior Project Manager', 'Principal Scientist',\n",
       "       'Supply Chain Manager', 'Senior Marketing Manager',\n",
       "       'Training Specialist', 'Research Scientist',\n",
       "       'Junior Software Developer', 'Public Relations Manager',\n",
       "       'Operations Analyst', 'Product Marketing Manager',\n",
       "       'Senior HR Manager', 'Junior Web Developer',\n",
       "       'Senior Project Coordinator', 'Chief Data Officer',\n",
       "       'Digital Content Producer', 'IT Support Specialist',\n",
       "       'Senior Marketing Analyst', 'Customer Success Manager',\n",
       "       'Senior Graphic Designer', 'Software Project Manager',\n",
       "       'Supply Chain Analyst', 'Senior Business Analyst',\n",
       "       'Junior Marketing Analyst', 'Office Manager', 'Principal Engineer',\n",
       "       'Junior HR Generalist', 'Senior Product Manager',\n",
       "       'Junior Operations Analyst', 'Senior HR Generalist',\n",
       "       'Sales Operations Manager', 'Senior Software Developer',\n",
       "       'Junior Web Designer', 'Senior Training Specialist',\n",
       "       'Senior Research Scientist', 'Junior Sales Representative',\n",
       "       'Junior Marketing Manager', 'Junior Data Analyst',\n",
       "       'Senior Product Marketing Manager', 'Junior Business Analyst',\n",
       "       'Senior Sales Manager', 'Junior Marketing Specialist',\n",
       "       'Junior Project Manager', 'Senior Accountant', 'Director of Sales',\n",
       "       'Junior Recruiter', 'Senior Business Development Manager',\n",
       "       'Senior Product Designer', 'Junior Customer Support Specialist',\n",
       "       'Senior IT Support Specialist', 'Junior Financial Analyst',\n",
       "       'Senior Operations Manager', 'Director of Human Resources',\n",
       "       'Junior Software Engineer', 'Senior Sales Representative',\n",
       "       'Director of Product Management', 'Junior Copywriter',\n",
       "       'Senior Marketing Coordinator', 'Senior Human Resources Manager',\n",
       "       'Junior Business Development Associate', 'Senior Account Manager',\n",
       "       'Senior Researcher', 'Junior HR Coordinator',\n",
       "       'Director of Finance', 'Junior Marketing Coordinator', nan,\n",
       "       'Junior Data Scientist', 'Senior Operations Analyst',\n",
       "       'Senior Human Resources Coordinator', 'Senior UX Designer',\n",
       "       'Junior Product Manager', 'Senior Marketing Specialist',\n",
       "       'Senior IT Project Manager', 'Senior Quality Assurance Analyst',\n",
       "       'Director of Sales and Marketing', 'Senior Account Executive',\n",
       "       'Director of Business Development', 'Junior Social Media Manager',\n",
       "       'Senior Human Resources Specialist', 'Senior Data Analyst',\n",
       "       'Director of Human Capital', 'Junior Advertising Coordinator',\n",
       "       'Junior UX Designer', 'Senior Marketing Director',\n",
       "       'Senior IT Consultant', 'Senior Financial Advisor',\n",
       "       'Junior Business Operations Analyst',\n",
       "       'Junior Social Media Specialist',\n",
       "       'Senior Product Development Manager', 'Junior Operations Manager',\n",
       "       'Senior Software Architect', 'Junior Research Scientist',\n",
       "       'Senior Financial Manager', 'Senior HR Specialist',\n",
       "       'Senior Data Engineer', 'Junior Operations Coordinator',\n",
       "       'Director of HR', 'Senior Operations Coordinator',\n",
       "       'Junior Financial Advisor', 'Director of Engineering'],\n",
       "      dtype=object)"
      ]
     },
     "execution_count": 26,
     "metadata": {},
     "output_type": "execute_result"
    }
   ],
   "source": [
    "df['Job Title'].unique()"
   ]
  },
  {
   "cell_type": "code",
   "execution_count": null,
   "id": "ce4b8aa1",
   "metadata": {},
   "outputs": [],
   "source": [
    "#x = df[['Age', 'Gender', 'Education Level', 'Years of Experience']]\n",
    "#y = df[['Salary']]"
   ]
  }
 ],
 "metadata": {
  "kernelspec": {
   "display_name": "Python 3 (ipykernel)",
   "language": "python",
   "name": "python3"
  },
  "language_info": {
   "codemirror_mode": {
    "name": "ipython",
    "version": 3
   },
   "file_extension": ".py",
   "mimetype": "text/x-python",
   "name": "python",
   "nbconvert_exporter": "python",
   "pygments_lexer": "ipython3",
   "version": "3.9.1"
  }
 },
 "nbformat": 4,
 "nbformat_minor": 5
}
