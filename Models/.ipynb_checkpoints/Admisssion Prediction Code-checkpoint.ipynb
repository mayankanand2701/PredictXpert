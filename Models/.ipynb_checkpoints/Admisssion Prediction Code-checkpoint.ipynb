{
 "cells": [
  {
   "cell_type": "code",
   "execution_count": 90,
   "id": "47b9850a",
   "metadata": {},
   "outputs": [],
   "source": [
    "# importing pandas\n",
    "\n",
    "import pandas as pd"
   ]
  },
  {
   "cell_type": "code",
   "execution_count": 91,
   "id": "6e075916",
   "metadata": {},
   "outputs": [],
   "source": [
    "# to load the dataset\n",
    "\n",
    "df = pd.read_csv('D:\\Full Stack Development\\Project ( GitHub )\\PredictXpert\\Datasets/Admission_Prediction_Dataset.csv')"
   ]
  },
  {
   "cell_type": "code",
   "execution_count": 92,
   "id": "1c15c37c",
   "metadata": {},
   "outputs": [
    {
     "data": {
      "text/html": [
       "<div>\n",
       "<style scoped>\n",
       "    .dataframe tbody tr th:only-of-type {\n",
       "        vertical-align: middle;\n",
       "    }\n",
       "\n",
       "    .dataframe tbody tr th {\n",
       "        vertical-align: top;\n",
       "    }\n",
       "\n",
       "    .dataframe thead th {\n",
       "        text-align: right;\n",
       "    }\n",
       "</style>\n",
       "<table border=\"1\" class=\"dataframe\">\n",
       "  <thead>\n",
       "    <tr style=\"text-align: right;\">\n",
       "      <th></th>\n",
       "      <th>Serial No.</th>\n",
       "      <th>GRE Score</th>\n",
       "      <th>TOEFL Score</th>\n",
       "      <th>University Rating</th>\n",
       "      <th>SOP</th>\n",
       "      <th>LOR</th>\n",
       "      <th>CGPA</th>\n",
       "      <th>Research</th>\n",
       "      <th>Chance of Admit</th>\n",
       "    </tr>\n",
       "  </thead>\n",
       "  <tbody>\n",
       "    <tr>\n",
       "      <th>0</th>\n",
       "      <td>1</td>\n",
       "      <td>337</td>\n",
       "      <td>118</td>\n",
       "      <td>4</td>\n",
       "      <td>4.5</td>\n",
       "      <td>4.5</td>\n",
       "      <td>9.65</td>\n",
       "      <td>1</td>\n",
       "      <td>0.92</td>\n",
       "    </tr>\n",
       "    <tr>\n",
       "      <th>1</th>\n",
       "      <td>2</td>\n",
       "      <td>324</td>\n",
       "      <td>107</td>\n",
       "      <td>4</td>\n",
       "      <td>4.0</td>\n",
       "      <td>4.5</td>\n",
       "      <td>8.87</td>\n",
       "      <td>1</td>\n",
       "      <td>0.76</td>\n",
       "    </tr>\n",
       "    <tr>\n",
       "      <th>2</th>\n",
       "      <td>3</td>\n",
       "      <td>316</td>\n",
       "      <td>104</td>\n",
       "      <td>3</td>\n",
       "      <td>3.0</td>\n",
       "      <td>3.5</td>\n",
       "      <td>8.00</td>\n",
       "      <td>1</td>\n",
       "      <td>0.72</td>\n",
       "    </tr>\n",
       "    <tr>\n",
       "      <th>3</th>\n",
       "      <td>4</td>\n",
       "      <td>322</td>\n",
       "      <td>110</td>\n",
       "      <td>3</td>\n",
       "      <td>3.5</td>\n",
       "      <td>2.5</td>\n",
       "      <td>8.67</td>\n",
       "      <td>1</td>\n",
       "      <td>0.80</td>\n",
       "    </tr>\n",
       "    <tr>\n",
       "      <th>4</th>\n",
       "      <td>5</td>\n",
       "      <td>314</td>\n",
       "      <td>103</td>\n",
       "      <td>2</td>\n",
       "      <td>2.0</td>\n",
       "      <td>3.0</td>\n",
       "      <td>8.21</td>\n",
       "      <td>0</td>\n",
       "      <td>0.65</td>\n",
       "    </tr>\n",
       "  </tbody>\n",
       "</table>\n",
       "</div>"
      ],
      "text/plain": [
       "   Serial No.  GRE Score  TOEFL Score  University Rating  SOP  LOR   CGPA  \\\n",
       "0           1        337          118                  4  4.5   4.5  9.65   \n",
       "1           2        324          107                  4  4.0   4.5  8.87   \n",
       "2           3        316          104                  3  3.0   3.5  8.00   \n",
       "3           4        322          110                  3  3.5   2.5  8.67   \n",
       "4           5        314          103                  2  2.0   3.0  8.21   \n",
       "\n",
       "   Research  Chance of Admit   \n",
       "0         1              0.92  \n",
       "1         1              0.76  \n",
       "2         1              0.72  \n",
       "3         1              0.80  \n",
       "4         0              0.65  "
      ]
     },
     "execution_count": 92,
     "metadata": {},
     "output_type": "execute_result"
    }
   ],
   "source": [
    "# to display the first 5 data's\n",
    "\n",
    "df.head(5)"
   ]
  },
  {
   "cell_type": "code",
   "execution_count": 93,
   "id": "2f262efa",
   "metadata": {},
   "outputs": [
    {
     "data": {
      "text/plain": [
       "(500, 9)"
      ]
     },
     "execution_count": 93,
     "metadata": {},
     "output_type": "execute_result"
    }
   ],
   "source": [
    "# to display about the total number of rows and columns in the dataset\n",
    "\n",
    "df.shape"
   ]
  },
  {
   "cell_type": "code",
   "execution_count": 94,
   "id": "8f2c6ecf",
   "metadata": {},
   "outputs": [
    {
     "name": "stdout",
     "output_type": "stream",
     "text": [
      "<class 'pandas.core.frame.DataFrame'>\n",
      "RangeIndex: 500 entries, 0 to 499\n",
      "Data columns (total 9 columns):\n",
      " #   Column             Non-Null Count  Dtype  \n",
      "---  ------             --------------  -----  \n",
      " 0   Serial No.         500 non-null    int64  \n",
      " 1   GRE Score          500 non-null    int64  \n",
      " 2   TOEFL Score        500 non-null    int64  \n",
      " 3   University Rating  500 non-null    int64  \n",
      " 4   SOP                500 non-null    float64\n",
      " 5   LOR                500 non-null    float64\n",
      " 6   CGPA               500 non-null    float64\n",
      " 7   Research           500 non-null    int64  \n",
      " 8   Chance of Admit    500 non-null    float64\n",
      "dtypes: float64(4), int64(5)\n",
      "memory usage: 35.3 KB\n"
     ]
    }
   ],
   "source": [
    "# to get detail information about the datset\n",
    "\n",
    "df.info()"
   ]
  },
  {
   "cell_type": "code",
   "execution_count": 95,
   "id": "1011b7e8",
   "metadata": {},
   "outputs": [
    {
     "data": {
      "text/plain": [
       "Serial No.           0\n",
       "GRE Score            0\n",
       "TOEFL Score          0\n",
       "University Rating    0\n",
       "SOP                  0\n",
       "LOR                  0\n",
       "CGPA                 0\n",
       "Research             0\n",
       "Chance of Admit      0\n",
       "dtype: int64"
      ]
     },
     "execution_count": 95,
     "metadata": {},
     "output_type": "execute_result"
    }
   ],
   "source": [
    "# to know about how may data's are null in the dataframe\n",
    "\n",
    "df.isnull().sum()"
   ]
  },
  {
   "cell_type": "code",
   "execution_count": 96,
   "id": "2546f5a4",
   "metadata": {},
   "outputs": [
    {
     "data": {
      "text/html": [
       "<div>\n",
       "<style scoped>\n",
       "    .dataframe tbody tr th:only-of-type {\n",
       "        vertical-align: middle;\n",
       "    }\n",
       "\n",
       "    .dataframe tbody tr th {\n",
       "        vertical-align: top;\n",
       "    }\n",
       "\n",
       "    .dataframe thead th {\n",
       "        text-align: right;\n",
       "    }\n",
       "</style>\n",
       "<table border=\"1\" class=\"dataframe\">\n",
       "  <thead>\n",
       "    <tr style=\"text-align: right;\">\n",
       "      <th></th>\n",
       "      <th>Serial No.</th>\n",
       "      <th>GRE Score</th>\n",
       "      <th>TOEFL Score</th>\n",
       "      <th>University Rating</th>\n",
       "      <th>SOP</th>\n",
       "      <th>LOR</th>\n",
       "      <th>CGPA</th>\n",
       "      <th>Research</th>\n",
       "      <th>Chance of Admit</th>\n",
       "    </tr>\n",
       "  </thead>\n",
       "  <tbody>\n",
       "    <tr>\n",
       "      <th>count</th>\n",
       "      <td>500.000000</td>\n",
       "      <td>500.000000</td>\n",
       "      <td>500.000000</td>\n",
       "      <td>500.000000</td>\n",
       "      <td>500.000000</td>\n",
       "      <td>500.00000</td>\n",
       "      <td>500.000000</td>\n",
       "      <td>500.000000</td>\n",
       "      <td>500.00000</td>\n",
       "    </tr>\n",
       "    <tr>\n",
       "      <th>mean</th>\n",
       "      <td>250.500000</td>\n",
       "      <td>316.472000</td>\n",
       "      <td>107.192000</td>\n",
       "      <td>3.114000</td>\n",
       "      <td>3.374000</td>\n",
       "      <td>3.48400</td>\n",
       "      <td>8.576440</td>\n",
       "      <td>0.560000</td>\n",
       "      <td>0.72174</td>\n",
       "    </tr>\n",
       "    <tr>\n",
       "      <th>std</th>\n",
       "      <td>144.481833</td>\n",
       "      <td>11.295148</td>\n",
       "      <td>6.081868</td>\n",
       "      <td>1.143512</td>\n",
       "      <td>0.991004</td>\n",
       "      <td>0.92545</td>\n",
       "      <td>0.604813</td>\n",
       "      <td>0.496884</td>\n",
       "      <td>0.14114</td>\n",
       "    </tr>\n",
       "    <tr>\n",
       "      <th>min</th>\n",
       "      <td>1.000000</td>\n",
       "      <td>290.000000</td>\n",
       "      <td>92.000000</td>\n",
       "      <td>1.000000</td>\n",
       "      <td>1.000000</td>\n",
       "      <td>1.00000</td>\n",
       "      <td>6.800000</td>\n",
       "      <td>0.000000</td>\n",
       "      <td>0.34000</td>\n",
       "    </tr>\n",
       "    <tr>\n",
       "      <th>25%</th>\n",
       "      <td>125.750000</td>\n",
       "      <td>308.000000</td>\n",
       "      <td>103.000000</td>\n",
       "      <td>2.000000</td>\n",
       "      <td>2.500000</td>\n",
       "      <td>3.00000</td>\n",
       "      <td>8.127500</td>\n",
       "      <td>0.000000</td>\n",
       "      <td>0.63000</td>\n",
       "    </tr>\n",
       "    <tr>\n",
       "      <th>50%</th>\n",
       "      <td>250.500000</td>\n",
       "      <td>317.000000</td>\n",
       "      <td>107.000000</td>\n",
       "      <td>3.000000</td>\n",
       "      <td>3.500000</td>\n",
       "      <td>3.50000</td>\n",
       "      <td>8.560000</td>\n",
       "      <td>1.000000</td>\n",
       "      <td>0.72000</td>\n",
       "    </tr>\n",
       "    <tr>\n",
       "      <th>75%</th>\n",
       "      <td>375.250000</td>\n",
       "      <td>325.000000</td>\n",
       "      <td>112.000000</td>\n",
       "      <td>4.000000</td>\n",
       "      <td>4.000000</td>\n",
       "      <td>4.00000</td>\n",
       "      <td>9.040000</td>\n",
       "      <td>1.000000</td>\n",
       "      <td>0.82000</td>\n",
       "    </tr>\n",
       "    <tr>\n",
       "      <th>max</th>\n",
       "      <td>500.000000</td>\n",
       "      <td>340.000000</td>\n",
       "      <td>120.000000</td>\n",
       "      <td>5.000000</td>\n",
       "      <td>5.000000</td>\n",
       "      <td>5.00000</td>\n",
       "      <td>9.920000</td>\n",
       "      <td>1.000000</td>\n",
       "      <td>0.97000</td>\n",
       "    </tr>\n",
       "  </tbody>\n",
       "</table>\n",
       "</div>"
      ],
      "text/plain": [
       "       Serial No.   GRE Score  TOEFL Score  University Rating         SOP  \\\n",
       "count  500.000000  500.000000   500.000000         500.000000  500.000000   \n",
       "mean   250.500000  316.472000   107.192000           3.114000    3.374000   \n",
       "std    144.481833   11.295148     6.081868           1.143512    0.991004   \n",
       "min      1.000000  290.000000    92.000000           1.000000    1.000000   \n",
       "25%    125.750000  308.000000   103.000000           2.000000    2.500000   \n",
       "50%    250.500000  317.000000   107.000000           3.000000    3.500000   \n",
       "75%    375.250000  325.000000   112.000000           4.000000    4.000000   \n",
       "max    500.000000  340.000000   120.000000           5.000000    5.000000   \n",
       "\n",
       "            LOR         CGPA    Research  Chance of Admit   \n",
       "count  500.00000  500.000000  500.000000         500.00000  \n",
       "mean     3.48400    8.576440    0.560000           0.72174  \n",
       "std      0.92545    0.604813    0.496884           0.14114  \n",
       "min      1.00000    6.800000    0.000000           0.34000  \n",
       "25%      3.00000    8.127500    0.000000           0.63000  \n",
       "50%      3.50000    8.560000    1.000000           0.72000  \n",
       "75%      4.00000    9.040000    1.000000           0.82000  \n",
       "max      5.00000    9.920000    1.000000           0.97000  "
      ]
     },
     "execution_count": 96,
     "metadata": {},
     "output_type": "execute_result"
    }
   ],
   "source": [
    "# Since we can see that there exist no Null data in the dataset thus we do not require a lot of Preprocessing in the dataset\n",
    "#  to generate descriptive statistics for the numerical columns (or series) in a DataFrame\n",
    "\n",
    "df.describe()"
   ]
  },
  {
   "cell_type": "code",
   "execution_count": 97,
   "id": "c3f99fc0",
   "metadata": {},
   "outputs": [
    {
     "data": {
      "text/plain": [
       "Index(['Serial No.', 'GRE Score', 'TOEFL Score', 'University Rating', 'SOP',\n",
       "       'LOR ', 'CGPA', 'Research', 'Chance of Admit '],\n",
       "      dtype='object')"
      ]
     },
     "execution_count": 97,
     "metadata": {},
     "output_type": "execute_result"
    }
   ],
   "source": [
    "# to define about the columns so that we can decide which one will be our Feature and Target\n",
    "\n",
    "df.columns"
   ]
  },
  {
   "cell_type": "code",
   "execution_count": 98,
   "id": "e2ace38e",
   "metadata": {},
   "outputs": [
    {
     "name": "stdout",
     "output_type": "stream",
     "text": [
      "     GRE Score  TOEFL Score  University Rating  SOP  LOR   CGPA  Research\n",
      "0          337          118                  4  4.5   4.5  9.65         1\n",
      "1          324          107                  4  4.0   4.5  8.87         1\n",
      "2          316          104                  3  3.0   3.5  8.00         1\n",
      "3          322          110                  3  3.5   2.5  8.67         1\n",
      "4          314          103                  2  2.0   3.0  8.21         0\n",
      "..         ...          ...                ...  ...   ...   ...       ...\n",
      "495        332          108                  5  4.5   4.0  9.02         1\n",
      "496        337          117                  5  5.0   5.0  9.87         1\n",
      "497        330          120                  5  4.5   5.0  9.56         1\n",
      "498        312          103                  4  4.0   5.0  8.43         0\n",
      "499        327          113                  4  4.5   4.5  9.04         0\n",
      "\n",
      "[500 rows x 7 columns]\n"
     ]
    }
   ],
   "source": [
    "# Choosing the features which will help us in predicting the Target which is 'Chance of Admit' here\n",
    "\n",
    "x = df[['GRE Score', 'TOEFL Score', 'University Rating', 'SOP',\n",
    "       'LOR ', 'CGPA', 'Research']]\n",
    "print(x)"
   ]
  },
  {
   "cell_type": "code",
   "execution_count": 99,
   "id": "0575a7d1",
   "metadata": {},
   "outputs": [
    {
     "data": {
      "text/plain": [
       "(500, 7)"
      ]
     },
     "execution_count": 99,
     "metadata": {},
     "output_type": "execute_result"
    }
   ],
   "source": [
    "# to know about the shape of Features\n",
    "\n",
    "x.shape"
   ]
  },
  {
   "cell_type": "code",
   "execution_count": 100,
   "id": "25303798",
   "metadata": {},
   "outputs": [
    {
     "name": "stdout",
     "output_type": "stream",
     "text": [
      "0      0.92\n",
      "1      0.76\n",
      "2      0.72\n",
      "3      0.80\n",
      "4      0.65\n",
      "       ... \n",
      "495    0.87\n",
      "496    0.96\n",
      "497    0.93\n",
      "498    0.73\n",
      "499    0.84\n",
      "Name: Chance of Admit , Length: 500, dtype: float64\n"
     ]
    }
   ],
   "source": [
    "# Choosing the target and storing it sepeartely\n",
    "\n",
    "y = df['Chance of Admit ']\n",
    "print(y)"
   ]
  },
  {
   "cell_type": "code",
   "execution_count": 101,
   "id": "768dd981",
   "metadata": {},
   "outputs": [
    {
     "data": {
      "text/plain": [
       "(500,)"
      ]
     },
     "execution_count": 101,
     "metadata": {},
     "output_type": "execute_result"
    }
   ],
   "source": [
    "# to know about the shape of Target\n",
    "\n",
    "y.shape"
   ]
  },
  {
   "cell_type": "code",
   "execution_count": 102,
   "id": "cf1d1fa8",
   "metadata": {},
   "outputs": [],
   "source": [
    "# Splitting the above data into training and testing data\n",
    "\n",
    "from sklearn.model_selection import train_test_split\n",
    "x_train,x_test,y_train,y_test = train_test_split(x,y,test_size= 0.3,random_state = 9598)"
   ]
  },
  {
   "cell_type": "code",
   "execution_count": 103,
   "id": "9643db15",
   "metadata": {},
   "outputs": [
    {
     "name": "stdout",
     "output_type": "stream",
     "text": [
      "(350, 7)\n",
      "(150, 7)\n",
      "(350,)\n",
      "(150,)\n"
     ]
    }
   ],
   "source": [
    "# to know about the shape of traing and testing data\n",
    "\n",
    "print(x_train.shape)\n",
    "print(x_test.shape)\n",
    "print(y_train.shape)\n",
    "print(y_test.shape)"
   ]
  },
  {
   "cell_type": "code",
   "execution_count": 104,
   "id": "f2d861c0",
   "metadata": {},
   "outputs": [],
   "source": [
    "# As it is the Regrssion Problem lets try all the Regression Algorith to get the best accuracy\n",
    "\n",
    "from sklearn.linear_model import LinearRegression\n",
    "model = LinearRegression()"
   ]
  },
  {
   "cell_type": "code",
   "execution_count": 105,
   "id": "2124cbb1",
   "metadata": {},
   "outputs": [
    {
     "data": {
      "text/html": [
       "<style>#sk-container-id-3 {color: black;background-color: white;}#sk-container-id-3 pre{padding: 0;}#sk-container-id-3 div.sk-toggleable {background-color: white;}#sk-container-id-3 label.sk-toggleable__label {cursor: pointer;display: block;width: 100%;margin-bottom: 0;padding: 0.3em;box-sizing: border-box;text-align: center;}#sk-container-id-3 label.sk-toggleable__label-arrow:before {content: \"▸\";float: left;margin-right: 0.25em;color: #696969;}#sk-container-id-3 label.sk-toggleable__label-arrow:hover:before {color: black;}#sk-container-id-3 div.sk-estimator:hover label.sk-toggleable__label-arrow:before {color: black;}#sk-container-id-3 div.sk-toggleable__content {max-height: 0;max-width: 0;overflow: hidden;text-align: left;background-color: #f0f8ff;}#sk-container-id-3 div.sk-toggleable__content pre {margin: 0.2em;color: black;border-radius: 0.25em;background-color: #f0f8ff;}#sk-container-id-3 input.sk-toggleable__control:checked~div.sk-toggleable__content {max-height: 200px;max-width: 100%;overflow: auto;}#sk-container-id-3 input.sk-toggleable__control:checked~label.sk-toggleable__label-arrow:before {content: \"▾\";}#sk-container-id-3 div.sk-estimator input.sk-toggleable__control:checked~label.sk-toggleable__label {background-color: #d4ebff;}#sk-container-id-3 div.sk-label input.sk-toggleable__control:checked~label.sk-toggleable__label {background-color: #d4ebff;}#sk-container-id-3 input.sk-hidden--visually {border: 0;clip: rect(1px 1px 1px 1px);clip: rect(1px, 1px, 1px, 1px);height: 1px;margin: -1px;overflow: hidden;padding: 0;position: absolute;width: 1px;}#sk-container-id-3 div.sk-estimator {font-family: monospace;background-color: #f0f8ff;border: 1px dotted black;border-radius: 0.25em;box-sizing: border-box;margin-bottom: 0.5em;}#sk-container-id-3 div.sk-estimator:hover {background-color: #d4ebff;}#sk-container-id-3 div.sk-parallel-item::after {content: \"\";width: 100%;border-bottom: 1px solid gray;flex-grow: 1;}#sk-container-id-3 div.sk-label:hover label.sk-toggleable__label {background-color: #d4ebff;}#sk-container-id-3 div.sk-serial::before {content: \"\";position: absolute;border-left: 1px solid gray;box-sizing: border-box;top: 0;bottom: 0;left: 50%;z-index: 0;}#sk-container-id-3 div.sk-serial {display: flex;flex-direction: column;align-items: center;background-color: white;padding-right: 0.2em;padding-left: 0.2em;position: relative;}#sk-container-id-3 div.sk-item {position: relative;z-index: 1;}#sk-container-id-3 div.sk-parallel {display: flex;align-items: stretch;justify-content: center;background-color: white;position: relative;}#sk-container-id-3 div.sk-item::before, #sk-container-id-3 div.sk-parallel-item::before {content: \"\";position: absolute;border-left: 1px solid gray;box-sizing: border-box;top: 0;bottom: 0;left: 50%;z-index: -1;}#sk-container-id-3 div.sk-parallel-item {display: flex;flex-direction: column;z-index: 1;position: relative;background-color: white;}#sk-container-id-3 div.sk-parallel-item:first-child::after {align-self: flex-end;width: 50%;}#sk-container-id-3 div.sk-parallel-item:last-child::after {align-self: flex-start;width: 50%;}#sk-container-id-3 div.sk-parallel-item:only-child::after {width: 0;}#sk-container-id-3 div.sk-dashed-wrapped {border: 1px dashed gray;margin: 0 0.4em 0.5em 0.4em;box-sizing: border-box;padding-bottom: 0.4em;background-color: white;}#sk-container-id-3 div.sk-label label {font-family: monospace;font-weight: bold;display: inline-block;line-height: 1.2em;}#sk-container-id-3 div.sk-label-container {text-align: center;}#sk-container-id-3 div.sk-container {/* jupyter's `normalize.less` sets `[hidden] { display: none; }` but bootstrap.min.css set `[hidden] { display: none !important; }` so we also need the `!important` here to be able to override the default hidden behavior on the sphinx rendered scikit-learn.org. See: https://github.com/scikit-learn/scikit-learn/issues/21755 */display: inline-block !important;position: relative;}#sk-container-id-3 div.sk-text-repr-fallback {display: none;}</style><div id=\"sk-container-id-3\" class=\"sk-top-container\"><div class=\"sk-text-repr-fallback\"><pre>LinearRegression()</pre><b>In a Jupyter environment, please rerun this cell to show the HTML representation or trust the notebook. <br />On GitHub, the HTML representation is unable to render, please try loading this page with nbviewer.org.</b></div><div class=\"sk-container\" hidden><div class=\"sk-item\"><div class=\"sk-estimator sk-toggleable\"><input class=\"sk-toggleable__control sk-hidden--visually\" id=\"sk-estimator-id-3\" type=\"checkbox\" checked><label for=\"sk-estimator-id-3\" class=\"sk-toggleable__label sk-toggleable__label-arrow\">LinearRegression</label><div class=\"sk-toggleable__content\"><pre>LinearRegression()</pre></div></div></div></div></div>"
      ],
      "text/plain": [
       "LinearRegression()"
      ]
     },
     "execution_count": 105,
     "metadata": {},
     "output_type": "execute_result"
    }
   ],
   "source": [
    "# To train and fit the model\n",
    "\n",
    "model.fit(x_train,y_train)"
   ]
  },
  {
   "cell_type": "code",
   "execution_count": 106,
   "id": "6fc2fc75",
   "metadata": {},
   "outputs": [],
   "source": [
    "# to predict the data\n",
    "\n",
    "y_pred = model.predict(x_test)"
   ]
  },
  {
   "cell_type": "code",
   "execution_count": 107,
   "id": "6ced90d9",
   "metadata": {},
   "outputs": [
    {
     "data": {
      "text/plain": [
       "array([0.79923414, 0.67723947, 0.95671885, 0.92157267, 0.66444449,\n",
       "       0.96123962, 0.84076317, 0.53456264, 0.77192393, 0.71525584,\n",
       "       0.83963037, 0.65741268, 0.66334637, 0.71538738, 0.6823679 ,\n",
       "       0.82553185, 0.78448413, 0.65737633, 0.58944896, 0.8331021 ,\n",
       "       0.6561598 , 0.7077424 , 0.73055486, 0.64509079, 0.65865189,\n",
       "       0.60451852, 0.68583562, 0.93800579, 0.54055376, 0.81924767,\n",
       "       0.73463592, 0.51984647, 0.81975704, 0.57395869, 0.83315275,\n",
       "       0.65862754, 0.6986925 , 0.88777954, 0.72962367, 0.58479597,\n",
       "       0.82243558, 0.85359066, 0.80583181, 0.65409698, 0.61729065,\n",
       "       0.89524483, 0.79355473, 0.63740104, 0.7703151 , 0.69930283,\n",
       "       0.7556229 , 0.78762792, 0.78614606, 0.62136561, 0.74095464,\n",
       "       0.79622805, 0.64580851, 0.76030678, 0.75756741, 0.85105867,\n",
       "       0.7267098 , 0.80631106, 0.59007543, 0.76667176, 0.71822737,\n",
       "       0.5676355 , 0.72564408, 0.62468566, 0.92059182, 0.68768656,\n",
       "       0.75268716, 0.85559843, 0.85395691, 0.56585476, 0.69778277,\n",
       "       0.70704017, 0.79838439, 0.66257661, 0.75994609, 0.66873232,\n",
       "       0.85602563, 0.90518843, 0.58728987, 0.75204312, 0.9379422 ,\n",
       "       0.62891091, 0.59529989, 0.77597414, 0.94724222, 0.76276474,\n",
       "       0.66413079, 0.90223355, 0.58530745, 0.80978142, 0.76814601,\n",
       "       0.55845401, 0.70886965, 0.94258998, 0.93081693, 0.58298112,\n",
       "       0.71730979, 0.51126887, 0.51364817, 0.61331417, 0.71786465,\n",
       "       0.54474097, 0.85262919, 0.80992956, 0.77114988, 0.7019029 ,\n",
       "       0.54028651, 0.83097219, 0.65593743, 0.90189275, 0.51976945,\n",
       "       0.98776645, 0.64476878, 0.65299359, 0.46794339, 0.69769667,\n",
       "       0.64928503, 0.62961368, 0.74073464, 0.93796959, 0.61126764,\n",
       "       0.80542675, 0.51460084, 0.7822726 , 0.44671861, 0.50434852,\n",
       "       0.71266929, 0.64219325, 0.64179393, 0.72176408, 0.65172667,\n",
       "       0.8978466 , 0.70569187, 0.70486378, 0.60162922, 0.63828522,\n",
       "       0.88633729, 0.87381008, 0.65968096, 0.74651475, 0.57312619,\n",
       "       0.88641807, 0.71464323, 0.61368459, 0.61318095, 0.54272937])"
      ]
     },
     "execution_count": 107,
     "metadata": {},
     "output_type": "execute_result"
    }
   ],
   "source": [
    "# to print the prexicted value for the test data\n",
    "\n",
    "y_pred"
   ]
  },
  {
   "cell_type": "code",
   "execution_count": 108,
   "id": "9d65a5fe",
   "metadata": {},
   "outputs": [
    {
     "data": {
      "text/plain": [
       "48     0.82\n",
       "125    0.64\n",
       "384    0.96\n",
       "22     0.94\n",
       "238    0.70\n",
       "       ... \n",
       "285    0.93\n",
       "31     0.74\n",
       "352    0.64\n",
       "158    0.61\n",
       "455    0.59\n",
       "Name: Chance of Admit , Length: 150, dtype: float64"
      ]
     },
     "execution_count": 108,
     "metadata": {},
     "output_type": "execute_result"
    }
   ],
   "source": [
    "# to know what the orignal prediction was for the testing data\n",
    "\n",
    "y_test"
   ]
  },
  {
   "cell_type": "code",
   "execution_count": 109,
   "id": "53c1a439",
   "metadata": {},
   "outputs": [],
   "source": [
    "# to Calculate the Accuracy of the Model\n",
    "\n",
    "from sklearn.metrics import mean_absolute_error, mean_absolute_percentage_error,mean_squared_error"
   ]
  },
  {
   "cell_type": "code",
   "execution_count": 110,
   "id": "33c0f200",
   "metadata": {},
   "outputs": [
    {
     "data": {
      "text/plain": [
       "0.04137589205760308"
      ]
     },
     "execution_count": 110,
     "metadata": {},
     "output_type": "execute_result"
    }
   ],
   "source": [
    "# to print the mean absolute error\n",
    "\n",
    "mean_absolute_error(y_test,y_pred)"
   ]
  },
  {
   "cell_type": "code",
   "execution_count": 111,
   "id": "c415719f",
   "metadata": {},
   "outputs": [
    {
     "data": {
      "text/plain": [
       "0.06789110722674732"
      ]
     },
     "execution_count": 111,
     "metadata": {},
     "output_type": "execute_result"
    }
   ],
   "source": [
    "# to print the mean absolute percentage\n",
    "\n",
    "per_e = mean_absolute_percentage_error(y_test,y_pred)\n",
    "per_e"
   ]
  },
  {
   "cell_type": "code",
   "execution_count": 112,
   "id": "05d24e41",
   "metadata": {},
   "outputs": [
    {
     "data": {
      "text/plain": [
       "93.21088927732526"
      ]
     },
     "execution_count": 112,
     "metadata": {},
     "output_type": "execute_result"
    }
   ],
   "source": [
    "# to print the accuracy in percentage\n",
    "\n",
    "accuracy = (1-per_e)*100\n",
    "accuracy"
   ]
  },
  {
   "cell_type": "code",
   "execution_count": 113,
   "id": "347d2136",
   "metadata": {},
   "outputs": [
    {
     "data": {
      "text/plain": [
       "0.003439502573503818"
      ]
     },
     "execution_count": 113,
     "metadata": {},
     "output_type": "execute_result"
    }
   ],
   "source": [
    "# to print the mean squared error\n",
    "\n",
    "mean_squared_error(y_test,y_pred)"
   ]
  },
  {
   "cell_type": "markdown",
   "id": "ca2302f4",
   "metadata": {},
   "source": [
    "Trying the other models so that we can use the algorithm which will give best accuracy"
   ]
  },
  {
   "cell_type": "code",
   "execution_count": 114,
   "id": "07b7f1dd",
   "metadata": {},
   "outputs": [
    {
     "data": {
      "text/plain": [
       "91.12547773580656"
      ]
     },
     "execution_count": 114,
     "metadata": {},
     "output_type": "execute_result"
    }
   ],
   "source": [
    "# KNeighbors Regressor\n",
    "\n",
    "from sklearn.neighbors import KNeighborsRegressor\n",
    "model2 = KNeighborsRegressor() \n",
    "model2.fit(x_train,y_train)\n",
    "y_pred2 = model2.predict(x_test)\n",
    "error2 = mean_absolute_percentage_error(y_test,y_pred2)\n",
    "acc2 = (1-error2)*100\n",
    "acc2"
   ]
  },
  {
   "cell_type": "code",
   "execution_count": 115,
   "id": "394d9c84",
   "metadata": {},
   "outputs": [
    {
     "data": {
      "text/plain": [
       "88.95856613077568"
      ]
     },
     "execution_count": 115,
     "metadata": {},
     "output_type": "execute_result"
    }
   ],
   "source": [
    "# DecisionTree Regressor\n",
    "\n",
    "from sklearn.tree import DecisionTreeRegressor\n",
    "model3 = DecisionTreeRegressor()\n",
    "model3.fit(x_train,y_train)\n",
    "y_pred3 = model3.predict(x_test)\n",
    "error3 = mean_absolute_percentage_error(y_test,y_pred3)\n",
    "acc3 = (1-error3)*100\n",
    "acc3"
   ]
  },
  {
   "cell_type": "code",
   "execution_count": 116,
   "id": "4662ee2d",
   "metadata": {},
   "outputs": [
    {
     "data": {
      "text/plain": [
       "92.44691416356187"
      ]
     },
     "execution_count": 116,
     "metadata": {},
     "output_type": "execute_result"
    }
   ],
   "source": [
    "# RandomForest Regressor\n",
    "\n",
    "from sklearn.ensemble import RandomForestRegressor\n",
    "model4 = RandomForestRegressor()\n",
    "model4.fit(x_train,y_train)\n",
    "y_pred4 = model4.predict(x_test)\n",
    "error4 = mean_absolute_percentage_error(y_test,y_pred4)\n",
    "acc4 = (1-error4)*100\n",
    "acc4"
   ]
  },
  {
   "cell_type": "code",
   "execution_count": 117,
   "id": "4df8b91f",
   "metadata": {},
   "outputs": [
    {
     "name": "stdout",
     "output_type": "stream",
     "text": [
      "The Acuuracy of Linear Regressor is  93.21088927732526\n",
      "The Acuuracy of KNeighbors Regressor is  91.12547773580656\n",
      "The Acuuracy of DecisionTree Regressor is  88.95856613077568\n",
      "The Acuuracy of RandomForest Regressor is  92.44691416356187\n"
     ]
    }
   ],
   "source": [
    "print(\"The Acuuracy of Linear Regressor is \",accuracy)\n",
    "print(\"The Acuuracy of KNeighbors Regressor is \",acc2)\n",
    "print(\"The Acuuracy of DecisionTree Regressor is \",acc3)\n",
    "print(\"The Acuuracy of RandomForest Regressor is \",acc4)"
   ]
  },
  {
   "cell_type": "code",
   "execution_count": 118,
   "id": "ca93d353",
   "metadata": {},
   "outputs": [],
   "source": [
    "# Saving the model so that we can just call this trained model for the input given by the user from the frontend\n",
    "\n",
    "# import pickle\n",
    "# pickle.dump(model,open('admissonModel.pkl','wb'))"
   ]
  },
  {
   "cell_type": "code",
   "execution_count": null,
   "id": "30d710ff",
   "metadata": {},
   "outputs": [],
   "source": []
  }
 ],
 "metadata": {
  "kernelspec": {
   "display_name": "Python 3 (ipykernel)",
   "language": "python",
   "name": "python3"
  },
  "language_info": {
   "codemirror_mode": {
    "name": "ipython",
    "version": 3
   },
   "file_extension": ".py",
   "mimetype": "text/x-python",
   "name": "python",
   "nbconvert_exporter": "python",
   "pygments_lexer": "ipython3",
   "version": "3.9.1"
  }
 },
 "nbformat": 4,
 "nbformat_minor": 5
}
